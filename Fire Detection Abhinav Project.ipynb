{
 "cells": [
  {
   "cell_type": "code",
   "execution_count": 1,
   "id": "07bc8c9d-09d2-4543-922e-3535adb32bd6",
   "metadata": {},
   "outputs": [
    {
     "name": "stdout",
     "output_type": "stream",
     "text": [
      "Requirement already satisfied: opencv-python in c:\\users\\abhinav\\appdata\\local\\programs\\python\\python39\\lib\\site-packages (4.10.0.84)\n",
      "Requirement already satisfied: numpy>=1.17.0 in c:\\users\\abhinav\\appdata\\local\\programs\\python\\python39\\lib\\site-packages (from opencv-python) (2.0.2)\n",
      "Note: you may need to restart the kernel to use updated packages.\n"
     ]
    },
    {
     "name": "stderr",
     "output_type": "stream",
     "text": [
      "WARNING: You are using pip version 21.2.3; however, version 24.3.1 is available.\n",
      "You should consider upgrading via the 'C:\\Users\\Abhinav\\AppData\\Local\\Programs\\Python\\Python39\\python.exe -m pip install --upgrade pip' command.\n"
     ]
    }
   ],
   "source": [
    "pip install opencv-python"
   ]
  },
  {
   "cell_type": "code",
   "execution_count": 2,
   "id": "2320f1c2-0d6e-4cca-8a1f-7838f3c97ee9",
   "metadata": {},
   "outputs": [
    {
     "name": "stdout",
     "output_type": "stream",
     "text": [
      "Requirement already satisfied: sklearn in c:\\users\\abhinav\\appdata\\local\\programs\\python\\python39\\lib\\site-packages (0.0)\n",
      "Requirement already satisfied: scikit-learn in c:\\users\\abhinav\\appdata\\local\\programs\\python\\python39\\lib\\site-packages (from sklearn) (1.6.0)\n",
      "Requirement already satisfied: scipy>=1.6.0 in c:\\users\\abhinav\\appdata\\local\\programs\\python\\python39\\lib\\site-packages (from scikit-learn->sklearn) (1.13.1)\n",
      "Requirement already satisfied: joblib>=1.2.0 in c:\\users\\abhinav\\appdata\\local\\programs\\python\\python39\\lib\\site-packages (from scikit-learn->sklearn) (1.4.2)\n",
      "Requirement already satisfied: numpy>=1.19.5 in c:\\users\\abhinav\\appdata\\local\\programs\\python\\python39\\lib\\site-packages (from scikit-learn->sklearn) (2.0.2)\n",
      "Requirement already satisfied: threadpoolctl>=3.1.0 in c:\\users\\abhinav\\appdata\\local\\programs\\python\\python39\\lib\\site-packages (from scikit-learn->sklearn) (3.5.0)\n",
      "Note: you may need to restart the kernel to use updated packages.\n"
     ]
    },
    {
     "name": "stderr",
     "output_type": "stream",
     "text": [
      "WARNING: You are using pip version 21.2.3; however, version 24.3.1 is available.\n",
      "You should consider upgrading via the 'C:\\Users\\Abhinav\\AppData\\Local\\Programs\\Python\\Python39\\python.exe -m pip install --upgrade pip' command.\n"
     ]
    }
   ],
   "source": [
    "pip install sklearn"
   ]
  },
  {
   "cell_type": "code",
   "execution_count": 3,
   "id": "850aa612-150e-405f-82be-68da4b524582",
   "metadata": {},
   "outputs": [
    {
     "name": "stdout",
     "output_type": "stream",
     "text": [
      "Requirement already satisfied: opencv-python in c:\\users\\abhinav\\appdata\\local\\programs\\python\\python39\\lib\\site-packages (4.10.0.84)Note: you may need to restart the kernel to use updated packages.\n",
      "\n",
      "Requirement already satisfied: numpy>=1.17.3 in c:\\users\\abhinav\\appdata\\local\\programs\\python\\python39\\lib\\site-packages (from opencv-python) (2.0.2)\n"
     ]
    },
    {
     "name": "stderr",
     "output_type": "stream",
     "text": [
      "WARNING: You are using pip version 21.2.3; however, version 24.3.1 is available.\n",
      "You should consider upgrading via the 'C:\\Users\\Abhinav\\AppData\\Local\\Programs\\Python\\Python39\\python.exe -m pip install --upgrade pip' command.\n"
     ]
    }
   ],
   "source": [
    "pip install --upgrade opencv-python"
   ]
  },
  {
   "cell_type": "code",
   "execution_count": 4,
   "id": "56f0192a-ee56-4a92-8e96-0b3e6a60732b",
   "metadata": {},
   "outputs": [],
   "source": [
    "import os\n",
    "import cv2\n",
    "import numpy as np\n",
    "from sklearn.model_selection import train_test_split\n",
    "from sklearn.ensemble import RandomForestClassifier\n",
    "from sklearn.metrics import accuracy_score, classification_report"
   ]
  },
  {
   "cell_type": "code",
   "execution_count": 5,
   "id": "087b417a-f191-4e7b-8ab1-6e29745af53f",
   "metadata": {},
   "outputs": [],
   "source": [
    "def load_images_from_folder(folder, label, img_size=(64, 64)):\n",
    "    images = []\n",
    "    labels = []\n",
    "    for filename in os.listdir(folder):\n",
    "        filepath = os.path.join(folder, filename)\n",
    "        img = cv2.imread(filepath)\n",
    "        if img is not None:\n",
    "            img = cv2.resize(img, img_size) # Resize image\n",
    "            images.append(img)\n",
    "            labels.append(label)\n",
    "    return images, labels\n",
    "fire_folder = \"C:/Users/Abhinav/Desktop/Fire-Detection/fire_images\"\n",
    "non_fire_folder = \"C:/Users/Abhinav/Desktop/Fire-Detection/non_fire_images\""
   ]
  },
  {
   "cell_type": "code",
   "execution_count": 6,
   "id": "20d4856c-7cd5-4059-83a3-d4058f1cc66e",
   "metadata": {},
   "outputs": [],
   "source": [
    "# Load fire and non-fire images\n",
    "fire_images, fire_labels = load_images_from_folder(fire_folder, label=1)\n",
    "non_fire_images, non_fire_labels = load_images_from_folder(non_fire_folder, label=0)"
   ]
  },
  {
   "cell_type": "code",
   "execution_count": 7,
   "id": "7eb7aec9-04e6-464e-aac8-0f0d08788ed3",
   "metadata": {},
   "outputs": [
    {
     "name": "stdout",
     "output_type": "stream",
     "text": [
      "Model Accuracy: 0.828125\n",
      "Classification Report:\n",
      "               precision    recall  f1-score   support\n",
      "\n",
      "           0       0.86      0.94      0.90       102\n",
      "           1       0.62      0.38      0.48        26\n",
      "\n",
      "    accuracy                           0.83       128\n",
      "   macro avg       0.74      0.66      0.69       128\n",
      "weighted avg       0.81      0.83      0.81       128\n",
      "\n",
      "Model saved as 'fire_detection_model.pkl'\n"
     ]
    }
   ],
   "source": [
    "import os\n",
    "import cv2\n",
    "import numpy as np\n",
    "from sklearn.ensemble import RandomForestClassifier\n",
    "from sklearn.model_selection import train_test_split\n",
    "from sklearn.metrics import accuracy_score, classification_report\n",
    "import joblib\n",
    "\n",
    "# Fire color thresholds in HSV\n",
    "lower_fire = np.array([0, 120, 200], dtype=\"uint8\")\n",
    "upper_fire = np.array([40, 255, 255], dtype=\"uint8\")\n",
    "\n",
    "def extract_features(image_path):\n",
    "    \"\"\"Extract fire-specific features: fire region ratio and mean red intensity.\"\"\"\n",
    "    image = cv2.imread(image_path)\n",
    "    hsv = cv2.cvtColor(image, cv2.COLOR_BGR2HSV)\n",
    "    mask = cv2.inRange(hsv, lower_fire, upper_fire)\n",
    "\n",
    "    # Calculate fire-like region ratio\n",
    "    fire_area = np.sum(mask > 0)\n",
    "    total_area = mask.size\n",
    "    fire_ratio = fire_area / total_area\n",
    "\n",
    "    # Calculate mean red channel intensity\n",
    "    mean_red = np.mean(image[:, :, 2])\n",
    "\n",
    "    return [fire_ratio, mean_red]\n",
    "\n",
    "# Paths to dataset folders\n",
    "fire_dir = \"C:/Users/Abhinav/Desktop/Fire-Detection/fire_images\"\n",
    "non_fire_dir = \"C:/Users/Abhinav/Desktop/Fire-Detection/non_fire_images\"\n",
    "\n",
    "X = []  # Features\n",
    "y = []  # Labels\n",
    "\n",
    "# Process fire images\n",
    "for filename in os.listdir(fire_dir):\n",
    "    if filename.endswith(\".jpg\") or filename.endswith(\".png\"):\n",
    "        filepath = os.path.join(fire_dir, filename)\n",
    "        X.append(extract_features(filepath))\n",
    "        y.append(1)  # Fire label = 1\n",
    "\n",
    "# Process non-fire images\n",
    "for filename in os.listdir(non_fire_dir):\n",
    "    if filename.endswith(\".jpg\") or filename.endswith(\".png\"):\n",
    "        filepath = os.path.join(non_fire_dir, filename)\n",
    "        X.append(extract_features(filepath))\n",
    "        y.append(0)  # Non-fire label = 0\n",
    "\n",
    "# Train a Random Forest model\n",
    "X_train, X_test, y_train, y_test = train_test_split(X, y, test_size=0.2, random_state=42)\n",
    "model = RandomForestClassifier(n_estimators=100, random_state=42)\n",
    "model.fit(X_train, y_train)\n",
    "\n",
    "# Evaluate the model\n",
    "y_pred = model.predict(X_test)\n",
    "print(\"Model Accuracy:\", accuracy_score(y_test, y_pred))\n",
    "print(\"Classification Report:\\n\", classification_report(y_test, y_pred))\n",
    "\n",
    "# Save the trained model\n",
    "joblib.dump(model, \"fire_detection_model.pkl\")\n",
    "print(\"Model saved as 'fire_detection_model.pkl'\")\n"
   ]
  },
  {
   "cell_type": "code",
   "execution_count": 8,
   "id": "56ec7819",
   "metadata": {},
   "outputs": [
    {
     "name": "stdout",
     "output_type": "stream",
     "text": [
      "Requirement already satisfied: pyttsx3 in c:\\users\\abhinav\\appdata\\local\\programs\\python\\python39\\lib\\site-packages (2.98)\n",
      "Requirement already satisfied: pywin32 in c:\\users\\abhinav\\appdata\\local\\programs\\python\\python39\\lib\\site-packages (from pyttsx3) (308)\n",
      "Requirement already satisfied: pypiwin32 in c:\\users\\abhinav\\appdata\\local\\programs\\python\\python39\\lib\\site-packages (from pyttsx3) (223)\n",
      "Requirement already satisfied: comtypes in c:\\users\\abhinav\\appdata\\local\\programs\\python\\python39\\lib\\site-packages (from pyttsx3) (1.4.8)\n",
      "Note: you may need to restart the kernel to use updated packages.\n"
     ]
    },
    {
     "name": "stderr",
     "output_type": "stream",
     "text": [
      "WARNING: You are using pip version 21.2.3; however, version 24.3.1 is available.\n",
      "You should consider upgrading via the 'C:\\Users\\Abhinav\\AppData\\Local\\Programs\\Python\\Python39\\python.exe -m pip install --upgrade pip' command.\n"
     ]
    }
   ],
   "source": [
    "pip install pyttsx3"
   ]
  },
  {
   "cell_type": "code",
   "execution_count": null,
   "id": "d6037881",
   "metadata": {},
   "outputs": [],
   "source": [
    "import tkinter as tk\n",
    "from tkinter import filedialog, Label, Button\n",
    "from PIL import Image, ImageTk\n",
    "import cv2\n",
    "import numpy as np\n",
    "import joblib\n",
    "import pyttsx3  # Text-to-speech library\n",
    "import time \n",
    "\n",
    "# Initialize text-to-speech engine\n",
    "engine = pyttsx3.init()\n",
    "\n",
    "# Load the trained Random Forest model\n",
    "model = joblib.load(\"fire_detection_model.pkl\")\n",
    "\n",
    "# Fire color thresholds in HSV\n",
    "lower_fire = np.array([0, 120, 200], dtype=\"uint8\")\n",
    "upper_fire = np.array([40, 255, 255], dtype=\"uint8\")\n",
    "\n",
    "def extract_features(image):\n",
    "    \"\"\"Extract fire-specific features from an image.\"\"\"\n",
    "    hsv = cv2.cvtColor(image, cv2.COLOR_BGR2HSV)\n",
    "    mask = cv2.inRange(hsv, lower_fire, upper_fire)\n",
    "\n",
    "    # Fire-like region ratio\n",
    "    fire_area = np.sum(mask > 0)\n",
    "    total_area = mask.size\n",
    "    fire_ratio = fire_area / total_area\n",
    "\n",
    "    # Mean red channel intensity\n",
    "    mean_red = np.mean(image[:, :, 2])\n",
    "\n",
    "    return [fire_ratio, mean_red]\n",
    "\n",
    "def speak(text):\n",
    "    \"\"\"Speak the given text using pyttsx3.\"\"\"\n",
    "    \n",
    "    engine.say(text)\n",
    "    engine.runAndWait()\n",
    "\n",
    "def load_image():\n",
    "    \"\"\"Load an image, extract features, and predict fire presence.\"\"\"\n",
    "    file_path = filedialog.askopenfilename(filetypes=[(\"Image files\", \"*.jpg;*.png\")])\n",
    "    if file_path:\n",
    "        # Read and display the image\n",
    "        image = cv2.imread(file_path)\n",
    "        image_rgb = cv2.cvtColor(image, cv2.COLOR_BGR2RGB)\n",
    "        image_pil = Image.fromarray(image_rgb)\n",
    "        image_tk = ImageTk.PhotoImage(image_pil)\n",
    "        label_img.config(image=image_tk)\n",
    "        label_img.image = image_tk\n",
    "\n",
    "        # Extract features and predict fire\n",
    "        features = extract_features(image)\n",
    "        prediction = model.predict([features])[0]\n",
    "        \n",
    "        if prediction == 1:\n",
    "            result_text = \"Fire Detected!\"\n",
    "            result_label.config(text=result_text, fg=\"red\")\n",
    "            time.sleep(5) \n",
    "            speak(\"Warning! Fire has been detected.\")\n",
    "        else:\n",
    "            result_text = \"No Fire Detected\"\n",
    "            result_label.config(text=result_text, fg=\"green\")\n",
    "            time.sleep(5) \n",
    "            speak(\"No fire detected. The area is safe.\")\n",
    "\n",
    "# GUI Application\n",
    "root = tk.Tk()\n",
    "root.title(\"Fire Detection System\")\n",
    "root.geometry(\"600x400\")\n",
    "root.configure(bg=\"white\")\n",
    "\n",
    "# Title\n",
    "title = Label(root, text=\"Fire Detection System\", font=(\"Helvetica\", 16, \"bold\"), bg=\"white\")\n",
    "title.pack(pady=10)\n",
    "\n",
    "# Image Display Area\n",
    "label_img = Label(root, bg=\"white\")\n",
    "label_img.pack(pady=10)\n",
    "\n",
    "# Result Label\n",
    "result_label = Label(root, text=\"\", font=(\"Helvetica\", 14), bg=\"white\")\n",
    "result_label.pack(pady=10)\n",
    "\n",
    "# Buttons\n",
    "btn_load = Button(root, text=\"Load Image\", command=load_image, font=(\"Helvetica\", 12), bg=\"blue\", fg=\"white\")\n",
    "btn_load.pack(pady=10)\n",
    "\n",
    "# Run Application\n",
    "root.mainloop()\n"
   ]
  },
  {
   "cell_type": "code",
   "execution_count": null,
   "id": "b1cd21ff-5c1b-433e-bb1d-992a2682854f",
   "metadata": {},
   "outputs": [],
   "source": []
  }
 ],
 "metadata": {
  "kernelspec": {
   "display_name": "Python 3 (ipykernel)",
   "language": "python",
   "name": "python3"
  },
  "language_info": {
   "codemirror_mode": {
    "name": "ipython",
    "version": 3
   },
   "file_extension": ".py",
   "mimetype": "text/x-python",
   "name": "python",
   "nbconvert_exporter": "python",
   "pygments_lexer": "ipython3",
   "version": "3.9.7"
  }
 },
 "nbformat": 4,
 "nbformat_minor": 5
}
